{
  "nbformat": 4,
  "nbformat_minor": 0,
  "metadata": {
    "colab": {
      "provenance": [],
      "toc_visible": true,
      "mount_file_id": "1l0TlVhO1q6O1c7zuz3_DDnBCnoyO5zlL",
      "authorship_tag": "ABX9TyPU9MWt+GyK2iRztc5xWwKk",
      "include_colab_link": true
    },
    "kernelspec": {
      "name": "python3",
      "display_name": "Python 3"
    },
    "language_info": {
      "name": "python"
    }
  },
  "cells": [
    {
      "cell_type": "markdown",
      "metadata": {
        "id": "view-in-github",
        "colab_type": "text"
      },
      "source": [
        "<a href=\"https://colab.research.google.com/github/zbaraskaya/-/blob/main/%D1%83%D0%B4%D0%B0%D0%BB%D0%B5%D0%BD%D0%B8%D0%B5_%D0%B2%D1%8B%D0%B1%D1%80%D0%BE%D1%81%D0%BE%D0%B2%20z-valey.ipynb\" target=\"_parent\"><img src=\"https://colab.research.google.com/assets/colab-badge.svg\" alt=\"Open In Colab\"/></a>"
      ]
    },
    {
      "cell_type": "markdown",
      "source": [
        "# Прогнозирование конечных свойств новых материалов\n",
        "На входе имеются данные о начальных свойствах компонентов композиционных материалов (количество связующего, наполнителя, температурный режим отверждения и т.д.). На выходе необходимо спрогнозировать ряд конечных свойств получаемых композиционных материалов.\n"
      ],
      "metadata": {
        "id": "UAItUuMuyRF1"
      }
    },
    {
      "cell_type": "markdown",
      "source": [
        "# Проверка выбросов методом Z-VALUE"
      ],
      "metadata": {
        "id": "MwDwad9-y3FB"
      }
    },
    {
      "cell_type": "code",
      "source": [
        "# библиотеки\n",
        "import pandas as pd\n",
        "import matplotlib.pyplot as plt\n",
        "import seaborn as sns\n",
        "import statistics\n",
        "import numpy as np\n",
        "import copy\n",
        "import seaborn as sns\n",
        "import matplotlib.pyplot as plt\n"
      ],
      "metadata": {
        "id": "usK0lZtpy-1F"
      },
      "execution_count": null,
      "outputs": []
    },
    {
      "cell_type": "code",
      "execution_count": null,
      "metadata": {
        "id": "9fjy4ELyxamn"
      },
      "outputs": [],
      "source": [
        "x_bp = pd.read_excel('/content/X_bp.xlsx')\n"
      ]
    },
    {
      "cell_type": "code",
      "source": [
        "x_nup = pd.read_excel('/content/X_nup.xlsx')\n"
      ],
      "metadata": {
        "id": "1auyupjjxekH"
      },
      "execution_count": null,
      "outputs": []
    },
    {
      "cell_type": "markdown",
      "source": [
        "Объединение делать по индексу тип объединения INNER\n"
      ],
      "metadata": {
        "id": "0H7Fmp3H4j4x"
      }
    },
    {
      "cell_type": "code",
      "source": [
        "x_nup = x_nup.iloc[0:1023, :]\n"
      ],
      "metadata": {
        "id": "QA2OBnPj1a_O"
      },
      "execution_count": null,
      "outputs": []
    },
    {
      "cell_type": "code",
      "source": [
        "df = x_nup.merge(x_bp, how='left', left_on ='Unnamed: 0', right_on ='Unnamed: 0')\n",
        "df = df.iloc[:, 1:]\n",
        "df.head(5)"
      ],
      "metadata": {
        "colab": {
          "base_uri": "https://localhost:8080/",
          "height": 336
        },
        "id": "jXwJvuVH08SZ",
        "outputId": "41927928-53c4-4c39-891c-ad52439b01d5"
      },
      "execution_count": null,
      "outputs": [
        {
          "output_type": "execute_result",
          "data": {
            "text/plain": [
              "   Угол нашивки, град  Шаг нашивки  Плотность нашивки  \\\n",
              "0                 0.0          4.0               57.0   \n",
              "1                 0.0          4.0               60.0   \n",
              "2                 0.0          4.0               70.0   \n",
              "3                 0.0          5.0               47.0   \n",
              "4                 0.0          5.0               57.0   \n",
              "\n",
              "   Соотношение матрица-наполнитель  Плотность, кг/м3  модуль упругости, ГПа  \\\n",
              "0                         1.857143            2030.0             738.736842   \n",
              "1                         1.857143            2030.0             738.736842   \n",
              "2                         1.857143            2030.0             738.736842   \n",
              "3                         1.857143            2030.0             738.736842   \n",
              "4                         2.771331            2030.0             753.000000   \n",
              "\n",
              "   Количество отвердителя, м.%  Содержание эпоксидных групп,%_2  \\\n",
              "0                        30.00                        22.267857   \n",
              "1                        50.00                        23.750000   \n",
              "2                        49.90                        33.000000   \n",
              "3                       129.00                        21.250000   \n",
              "4                       111.86                        22.267857   \n",
              "\n",
              "   Температура вспышки, С_2  Поверхностная плотность, г/м2  \\\n",
              "0                100.000000                          210.0   \n",
              "1                284.615385                          210.0   \n",
              "2                284.615385                          210.0   \n",
              "3                300.000000                          210.0   \n",
              "4                284.615385                          210.0   \n",
              "\n",
              "   Модуль упругости при растяжении, ГПа  Прочность при растяжении, МПа  \\\n",
              "0                                  70.0                         3000.0   \n",
              "1                                  70.0                         3000.0   \n",
              "2                                  70.0                         3000.0   \n",
              "3                                  70.0                         3000.0   \n",
              "4                                  70.0                         3000.0   \n",
              "\n",
              "   Потребление смолы, г/м2  \n",
              "0                    220.0  \n",
              "1                    220.0  \n",
              "2                    220.0  \n",
              "3                    220.0  \n",
              "4                    220.0  "
            ],
            "text/html": [
              "\n",
              "  <div id=\"df-76d7cd49-f523-4c4a-8f43-de9b7361dab2\">\n",
              "    <div class=\"colab-df-container\">\n",
              "      <div>\n",
              "<style scoped>\n",
              "    .dataframe tbody tr th:only-of-type {\n",
              "        vertical-align: middle;\n",
              "    }\n",
              "\n",
              "    .dataframe tbody tr th {\n",
              "        vertical-align: top;\n",
              "    }\n",
              "\n",
              "    .dataframe thead th {\n",
              "        text-align: right;\n",
              "    }\n",
              "</style>\n",
              "<table border=\"1\" class=\"dataframe\">\n",
              "  <thead>\n",
              "    <tr style=\"text-align: right;\">\n",
              "      <th></th>\n",
              "      <th>Угол нашивки, град</th>\n",
              "      <th>Шаг нашивки</th>\n",
              "      <th>Плотность нашивки</th>\n",
              "      <th>Соотношение матрица-наполнитель</th>\n",
              "      <th>Плотность, кг/м3</th>\n",
              "      <th>модуль упругости, ГПа</th>\n",
              "      <th>Количество отвердителя, м.%</th>\n",
              "      <th>Содержание эпоксидных групп,%_2</th>\n",
              "      <th>Температура вспышки, С_2</th>\n",
              "      <th>Поверхностная плотность, г/м2</th>\n",
              "      <th>Модуль упругости при растяжении, ГПа</th>\n",
              "      <th>Прочность при растяжении, МПа</th>\n",
              "      <th>Потребление смолы, г/м2</th>\n",
              "    </tr>\n",
              "  </thead>\n",
              "  <tbody>\n",
              "    <tr>\n",
              "      <th>0</th>\n",
              "      <td>0.0</td>\n",
              "      <td>4.0</td>\n",
              "      <td>57.0</td>\n",
              "      <td>1.857143</td>\n",
              "      <td>2030.0</td>\n",
              "      <td>738.736842</td>\n",
              "      <td>30.00</td>\n",
              "      <td>22.267857</td>\n",
              "      <td>100.000000</td>\n",
              "      <td>210.0</td>\n",
              "      <td>70.0</td>\n",
              "      <td>3000.0</td>\n",
              "      <td>220.0</td>\n",
              "    </tr>\n",
              "    <tr>\n",
              "      <th>1</th>\n",
              "      <td>0.0</td>\n",
              "      <td>4.0</td>\n",
              "      <td>60.0</td>\n",
              "      <td>1.857143</td>\n",
              "      <td>2030.0</td>\n",
              "      <td>738.736842</td>\n",
              "      <td>50.00</td>\n",
              "      <td>23.750000</td>\n",
              "      <td>284.615385</td>\n",
              "      <td>210.0</td>\n",
              "      <td>70.0</td>\n",
              "      <td>3000.0</td>\n",
              "      <td>220.0</td>\n",
              "    </tr>\n",
              "    <tr>\n",
              "      <th>2</th>\n",
              "      <td>0.0</td>\n",
              "      <td>4.0</td>\n",
              "      <td>70.0</td>\n",
              "      <td>1.857143</td>\n",
              "      <td>2030.0</td>\n",
              "      <td>738.736842</td>\n",
              "      <td>49.90</td>\n",
              "      <td>33.000000</td>\n",
              "      <td>284.615385</td>\n",
              "      <td>210.0</td>\n",
              "      <td>70.0</td>\n",
              "      <td>3000.0</td>\n",
              "      <td>220.0</td>\n",
              "    </tr>\n",
              "    <tr>\n",
              "      <th>3</th>\n",
              "      <td>0.0</td>\n",
              "      <td>5.0</td>\n",
              "      <td>47.0</td>\n",
              "      <td>1.857143</td>\n",
              "      <td>2030.0</td>\n",
              "      <td>738.736842</td>\n",
              "      <td>129.00</td>\n",
              "      <td>21.250000</td>\n",
              "      <td>300.000000</td>\n",
              "      <td>210.0</td>\n",
              "      <td>70.0</td>\n",
              "      <td>3000.0</td>\n",
              "      <td>220.0</td>\n",
              "    </tr>\n",
              "    <tr>\n",
              "      <th>4</th>\n",
              "      <td>0.0</td>\n",
              "      <td>5.0</td>\n",
              "      <td>57.0</td>\n",
              "      <td>2.771331</td>\n",
              "      <td>2030.0</td>\n",
              "      <td>753.000000</td>\n",
              "      <td>111.86</td>\n",
              "      <td>22.267857</td>\n",
              "      <td>284.615385</td>\n",
              "      <td>210.0</td>\n",
              "      <td>70.0</td>\n",
              "      <td>3000.0</td>\n",
              "      <td>220.0</td>\n",
              "    </tr>\n",
              "  </tbody>\n",
              "</table>\n",
              "</div>\n",
              "      <button class=\"colab-df-convert\" onclick=\"convertToInteractive('df-76d7cd49-f523-4c4a-8f43-de9b7361dab2')\"\n",
              "              title=\"Convert this dataframe to an interactive table.\"\n",
              "              style=\"display:none;\">\n",
              "        \n",
              "  <svg xmlns=\"http://www.w3.org/2000/svg\" height=\"24px\"viewBox=\"0 0 24 24\"\n",
              "       width=\"24px\">\n",
              "    <path d=\"M0 0h24v24H0V0z\" fill=\"none\"/>\n",
              "    <path d=\"M18.56 5.44l.94 2.06.94-2.06 2.06-.94-2.06-.94-.94-2.06-.94 2.06-2.06.94zm-11 1L8.5 8.5l.94-2.06 2.06-.94-2.06-.94L8.5 2.5l-.94 2.06-2.06.94zm10 10l.94 2.06.94-2.06 2.06-.94-2.06-.94-.94-2.06-.94 2.06-2.06.94z\"/><path d=\"M17.41 7.96l-1.37-1.37c-.4-.4-.92-.59-1.43-.59-.52 0-1.04.2-1.43.59L10.3 9.45l-7.72 7.72c-.78.78-.78 2.05 0 2.83L4 21.41c.39.39.9.59 1.41.59.51 0 1.02-.2 1.41-.59l7.78-7.78 2.81-2.81c.8-.78.8-2.07 0-2.86zM5.41 20L4 18.59l7.72-7.72 1.47 1.35L5.41 20z\"/>\n",
              "  </svg>\n",
              "      </button>\n",
              "      \n",
              "  <style>\n",
              "    .colab-df-container {\n",
              "      display:flex;\n",
              "      flex-wrap:wrap;\n",
              "      gap: 12px;\n",
              "    }\n",
              "\n",
              "    .colab-df-convert {\n",
              "      background-color: #E8F0FE;\n",
              "      border: none;\n",
              "      border-radius: 50%;\n",
              "      cursor: pointer;\n",
              "      display: none;\n",
              "      fill: #1967D2;\n",
              "      height: 32px;\n",
              "      padding: 0 0 0 0;\n",
              "      width: 32px;\n",
              "    }\n",
              "\n",
              "    .colab-df-convert:hover {\n",
              "      background-color: #E2EBFA;\n",
              "      box-shadow: 0px 1px 2px rgba(60, 64, 67, 0.3), 0px 1px 3px 1px rgba(60, 64, 67, 0.15);\n",
              "      fill: #174EA6;\n",
              "    }\n",
              "\n",
              "    [theme=dark] .colab-df-convert {\n",
              "      background-color: #3B4455;\n",
              "      fill: #D2E3FC;\n",
              "    }\n",
              "\n",
              "    [theme=dark] .colab-df-convert:hover {\n",
              "      background-color: #434B5C;\n",
              "      box-shadow: 0px 1px 3px 1px rgba(0, 0, 0, 0.15);\n",
              "      filter: drop-shadow(0px 1px 2px rgba(0, 0, 0, 0.3));\n",
              "      fill: #FFFFFF;\n",
              "    }\n",
              "  </style>\n",
              "\n",
              "      <script>\n",
              "        const buttonEl =\n",
              "          document.querySelector('#df-76d7cd49-f523-4c4a-8f43-de9b7361dab2 button.colab-df-convert');\n",
              "        buttonEl.style.display =\n",
              "          google.colab.kernel.accessAllowed ? 'block' : 'none';\n",
              "\n",
              "        async function convertToInteractive(key) {\n",
              "          const element = document.querySelector('#df-76d7cd49-f523-4c4a-8f43-de9b7361dab2');\n",
              "          const dataTable =\n",
              "            await google.colab.kernel.invokeFunction('convertToInteractive',\n",
              "                                                     [key], {});\n",
              "          if (!dataTable) return;\n",
              "\n",
              "          const docLinkHtml = 'Like what you see? Visit the ' +\n",
              "            '<a target=\"_blank\" href=https://colab.research.google.com/notebooks/data_table.ipynb>data table notebook</a>'\n",
              "            + ' to learn more about interactive tables.';\n",
              "          element.innerHTML = '';\n",
              "          dataTable['output_type'] = 'display_data';\n",
              "          await google.colab.output.renderOutput(dataTable, element);\n",
              "          const docLink = document.createElement('div');\n",
              "          docLink.innerHTML = docLinkHtml;\n",
              "          element.appendChild(docLink);\n",
              "        }\n",
              "      </script>\n",
              "    </div>\n",
              "  </div>\n",
              "  "
            ]
          },
          "metadata": {},
          "execution_count": 130
        }
      ]
    },
    {
      "cell_type": "markdown",
      "source": [
        "#Проверим наличие выбросов методом Z-VALUE\n",
        "При наличии выбросов удалим их, очистив данные и подготовив их к дальнейшему исследованию"
      ],
      "metadata": {
        "id": "1LN4o9O4ue3o"
      }
    },
    {
      "cell_type": "code",
      "source": [
        "# положим названия столбцов в отдельный список\n",
        "names = df.columns\n",
        "names"
      ],
      "metadata": {
        "colab": {
          "base_uri": "https://localhost:8080/"
        },
        "id": "K6WawAn68gnL",
        "outputId": "33bd7c74-13d5-4988-842d-f13123cddce0"
      },
      "execution_count": null,
      "outputs": [
        {
          "output_type": "execute_result",
          "data": {
            "text/plain": [
              "Index(['Угол нашивки, град', 'Шаг нашивки', 'Плотность нашивки',\n",
              "       'Соотношение матрица-наполнитель', 'Плотность, кг/м3',\n",
              "       'модуль упругости, ГПа', 'Количество отвердителя, м.%',\n",
              "       'Содержание эпоксидных групп,%_2', 'Температура вспышки, С_2',\n",
              "       'Поверхностная плотность, г/м2', 'Модуль упругости при растяжении, ГПа',\n",
              "       'Прочность при растяжении, МПа', 'Потребление смолы, г/м2'],\n",
              "      dtype='object')"
            ]
          },
          "metadata": {},
          "execution_count": 131
        }
      ]
    },
    {
      "cell_type": "code",
      "source": [
        "def box_plt13(df):\n",
        "  sns.boxplot(data = df, orient=\"h\")\n",
        "  plt.show()\n",
        "box_plt13(df)"
      ],
      "metadata": {
        "colab": {
          "base_uri": "https://localhost:8080/",
          "height": 265
        },
        "id": "pFI60a0GwDrk",
        "outputId": "b8403ff8-04cb-4f5f-cd81-1965fc791607"
      },
      "execution_count": null,
      "outputs": [
        {
          "output_type": "display_data",
          "data": {
            "text/plain": [
              "<Figure size 432x288 with 1 Axes>"
            ],
            "image/png": "[encoded data removed]"
          },
          "metadata": {
            "needs_background": "light"
          }
        }
      ]
    },
    {
      "cell_type": "markdown",
      "source": [
        "#Угол нашивки, град"
      ],
      "metadata": {
        "id": "_Y-GZNKZuzMo"
      }
    },
    {
      "cell_type": "code",
      "source": [
        "# в данной переменной выбросов нет\n",
        "plt.figure(figsize=(25,2))\n",
        "sns.boxplot(df[names[0]],fliersize=10, color='red')"
      ],
      "metadata": {
        "colab": {
          "base_uri": "https://localhost:8080/",
          "height": 232
        },
        "id": "fH2-9zCe6s2N",
        "outputId": "9dc82786-1b83-4546-96d0-a24abf3a98b3"
      },
      "execution_count": null,
      "outputs": [
        {
          "output_type": "stream",
          "name": "stderr",
          "text": [
            "/usr/local/lib/python3.8/dist-packages/seaborn/_decorators.py:36: FutureWarning: Pass the following variable as a keyword arg: x. From version 0.12, the only valid positional argument will be `data`, and passing other arguments without an explicit keyword will result in an error or misinterpretation.\n",
            "  warnings.warn(\n"
          ]
        },
        {
          "output_type": "execute_result",
          "data": {
            "text/plain": [
              "<matplotlib.axes._subplots.AxesSubplot at 0x7f16943a21f0>"
            ]
          },
          "metadata": {},
          "execution_count": 116
        },
        {
          "output_type": "display_data",
          "data": {
            "text/plain": [
              "<Figure size 1800x144 with 1 Axes>"
            ],
            "image/png": "[encoded data removed]"
          },
          "metadata": {
            "needs_background": "light"
          }
        }
      ]
    },
    {
      "cell_type": "markdown",
      "source": [
        "#Шаг нашивки"
      ],
      "metadata": {
        "id": "ul4_PevCvKmn"
      }
    },
    {
      "cell_type": "code",
      "source": [
        "#в данной переменной есть выбросы, необходимо их проверить\n",
        "plt.figure(figsize=(25,2))\n",
        "sns.boxplot(df[names[1]],fliersize=10, color='red')"
      ],
      "metadata": {
        "colab": {
          "base_uri": "https://localhost:8080/",
          "height": 232
        },
        "id": "meK8vwr28eqU",
        "outputId": "a65909be-463f-46bc-b70c-d48dbf6a9d39"
      },
      "execution_count": null,
      "outputs": [
        {
          "output_type": "stream",
          "name": "stderr",
          "text": [
            "/usr/local/lib/python3.8/dist-packages/seaborn/_decorators.py:36: FutureWarning: Pass the following variable as a keyword arg: x. From version 0.12, the only valid positional argument will be `data`, and passing other arguments without an explicit keyword will result in an error or misinterpretation.\n",
            "  warnings.warn(\n"
          ]
        },
        {
          "output_type": "execute_result",
          "data": {
            "text/plain": [
              "<matplotlib.axes._subplots.AxesSubplot at 0x7f16ef5e7220>"
            ]
          },
          "metadata": {},
          "execution_count": 14
        },
        {
          "output_type": "display_data",
          "data": {
            "text/plain": [
              "<Figure size 1800x144 with 1 Axes>"
            ],
            "image/png": "[encoded data removed]"
          },
          "metadata": {
            "needs_background": "light"
          }
        }
      ]
    },
    {
      "cell_type": "code",
      "source": [
        "#поиск отклонений через z-value\n",
        "mm1 = df[names[1]].mean() #среднее значение \n",
        "st1 = statistics.stdev(df[names[1]]) # cтандартное отклонение = корень кв из дисперсии\n",
        "\n",
        "for i in range(0,len(df)):\n",
        "  df.loc[i, 'Шаг нашивки'] = (df.loc[i, names[1]] - mm1) / st1 \n",
        "\n",
        "print('max value = ', df['Шаг нашивки'].max(), 'min value = ', df['Шаг нашивки'].min())\n",
        "print('Выбросов не обнаружено') #выбросы находятся в пределех от -3 до 3 , согласно нормальному распределению"
      ],
      "metadata": {
        "colab": {
          "base_uri": "https://localhost:8080/"
        },
        "id": "TO0L9zruE3p5",
        "outputId": "c8389ba0-111f-4e11-c825-2f3d2e381801"
      },
      "execution_count": null,
      "outputs": [
        {
          "output_type": "stream",
          "name": "stdout",
          "text": [
            "max value =  2.941836030444919 min value =  -2.691363642150476\n",
            "Выбросов не обнаружено\n"
          ]
        }
      ]
    },
    {
      "cell_type": "code",
      "source": [
        "# следуетс проверить на выбросы\n",
        "plt.figure(figsize=(25,2))\n",
        "sns.boxplot(df[names[2]],fliersize=10, color='red')"
      ],
      "metadata": {
        "colab": {
          "base_uri": "https://localhost:8080/",
          "height": 232
        },
        "id": "fKhVqEHi8SGa",
        "outputId": "a41a8d4b-75f0-4a50-dbeb-7949c1d4e27e"
      },
      "execution_count": null,
      "outputs": [
        {
          "output_type": "stream",
          "name": "stderr",
          "text": [
            "/usr/local/lib/python3.8/dist-packages/seaborn/_decorators.py:36: FutureWarning: Pass the following variable as a keyword arg: x. From version 0.12, the only valid positional argument will be `data`, and passing other arguments without an explicit keyword will result in an error or misinterpretation.\n",
            "  warnings.warn(\n"
          ]
        },
        {
          "output_type": "execute_result",
          "data": {
            "text/plain": [
              "<matplotlib.axes._subplots.AxesSubplot at 0x7f16ef0fc370>"
            ]
          },
          "metadata": {},
          "execution_count": 16
        },
        {
          "output_type": "display_data",
          "data": {
            "text/plain": [
              "<Figure size 1800x144 with 1 Axes>"
            ],
            "image/png": "[encoded data removed]"
          },
          "metadata": {
            "needs_background": "light"
          }
        }
      ]
    },
    {
      "cell_type": "code",
      "source": [
        "#поиск отклонений через z-value\n",
        "mm2 = df[names[2]].mean() #среднее значение \n",
        "st2 = statistics.stdev(df[names[2]]) # cтандартное отклонение = корень кв их дисперсии\n",
        "\n",
        "for i in range(0,len(df)):\n",
        "  df.loc[i, 'Плотность нашивки'] = (df.loc[i, names[2]] - mm2) / st2 \n",
        "\n",
        "print('max value = ', df['Плотность нашивки'].max(), 'min value = ', df['Плотность нашивки'].min())\n",
        "print('Выбросы обнаружены') #выбросы находятся в пределех от -3 до 3 , согласно нормальному распределению необходимо почистить выбросы"
      ],
      "metadata": {
        "colab": {
          "base_uri": "https://localhost:8080/"
        },
        "id": "kOFh6YUrKpMB",
        "outputId": "24a2934f-c2e8-4edd-b1b4-0ed75707e318"
      },
      "execution_count": null,
      "outputs": [
        {
          "output_type": "stream",
          "name": "stdout",
          "text": [
            "max value =  3.7920079495100456 min value =  -4.627485532883755\n",
            "Выбросы обнаружены\n"
          ]
        }
      ]
    },
    {
      "cell_type": "code",
      "source": [
        "dfg = df[(df['Плотность нашивки'] <= 3.0) & (df['Плотность нашивки']>= -3.0)]\n",
        "dfg.reset_index(inplace = True)\n",
        "dfg = dfg.copy()"
      ],
      "metadata": {
        "id": "Pf84QiXFMawF"
      },
      "execution_count": null,
      "outputs": []
    },
    {
      "cell_type": "markdown",
      "source": [
        "#Соотношение матрица-наполнитель"
      ],
      "metadata": {
        "id": "n27i_yY_S5yX"
      }
    },
    {
      "cell_type": "code",
      "source": [
        "#проверка на выбросы\n",
        "plt.figure(figsize=(25,2))\n",
        "sns.boxplot(dfg[names[3]],fliersize=10, color='red')"
      ],
      "metadata": {
        "colab": {
          "base_uri": "https://localhost:8080/",
          "height": 232
        },
        "id": "m3z4p3nd7_ZJ",
        "outputId": "de3935a6-ee2d-40dd-e398-0a83a3bb1447"
      },
      "execution_count": null,
      "outputs": [
        {
          "output_type": "stream",
          "name": "stderr",
          "text": [
            "/usr/local/lib/python3.8/dist-packages/seaborn/_decorators.py:36: FutureWarning: Pass the following variable as a keyword arg: x. From version 0.12, the only valid positional argument will be `data`, and passing other arguments without an explicit keyword will result in an error or misinterpretation.\n",
            "  warnings.warn(\n"
          ]
        },
        {
          "output_type": "execute_result",
          "data": {
            "text/plain": [
              "<matplotlib.axes._subplots.AxesSubplot at 0x7f16eef330a0>"
            ]
          },
          "metadata": {},
          "execution_count": 52
        },
        {
          "output_type": "display_data",
          "data": {
            "text/plain": [
              "<Figure size 1800x144 with 1 Axes>"
            ],
            "image/png": "[encoded data removed]"
          },
          "metadata": {
            "needs_background": "light"
          }
        }
      ]
    },
    {
      "cell_type": "code",
      "source": [
        "#поиск отклонений через z-value\n",
        "mm3 = dfg[names[3]].mean() #среднее значение \n",
        "st3 = statistics.stdev(dfg[names[3]]) # cтандартное отклонение = корень кв их дисперсии\n",
        "\n",
        "for i in range(0,len(dfg)):\n",
        "  dfg.loc[i, 'Соотношение матрица-наполнитель'] = (dfg.loc[i, names[3]] - mm3) / st3 \n",
        "\n",
        "print('max value = ', dfg['Соотношение матрица-наполнитель'].max(), 'min value = ', dfg['Соотношение матрица-наполнитель'].min())\n",
        "print('Выбросы не обнаружены') #выбросы находятся в пределех от -3 до 3 "
      ],
      "metadata": {
        "colab": {
          "base_uri": "https://localhost:8080/"
        },
        "id": "xKsyi_txM53C",
        "outputId": "4ec7331d-2cc8-4099-d7c9-986db73dc3e6"
      },
      "execution_count": null,
      "outputs": [
        {
          "output_type": "stream",
          "name": "stdout",
          "text": [
            "max value =  2.9169360450826036 min value =  -2.786179113655854\n",
            "Выбросы не обнаружены\n"
          ]
        }
      ]
    },
    {
      "cell_type": "code",
      "source": [
        "names"
      ],
      "metadata": {
        "colab": {
          "base_uri": "https://localhost:8080/"
        },
        "id": "JnhS8mj8TTVx",
        "outputId": "62abc207-cb12-4a2f-d7c6-87a8ae23a841"
      },
      "execution_count": null,
      "outputs": [
        {
          "output_type": "execute_result",
          "data": {
            "text/plain": [
              "Index(['Угол нашивки, град', 'Шаг нашивки', 'Плотность нашивки',\n",
              "       'Соотношение матрица-наполнитель', 'Плотность, кг/м3',\n",
              "       'модуль упругости, ГПа', 'Количество отвердителя, м.%',\n",
              "       'Содержание эпоксидных групп,%_2', 'Температура вспышки, С_2',\n",
              "       'Поверхностная плотность, г/м2', 'Модуль упругости при растяжении, ГПа',\n",
              "       'Прочность при растяжении, МПа', 'Потребление смолы, г/м2',\n",
              "       'nashivka_norm', 'plotnost_nashivki_norm'],\n",
              "      dtype='object')"
            ]
          },
          "metadata": {},
          "execution_count": 54
        }
      ]
    },
    {
      "cell_type": "markdown",
      "source": [
        "#Плотность, кг/м3"
      ],
      "metadata": {
        "id": "KjbH2mRiTYMd"
      }
    },
    {
      "cell_type": "code",
      "source": [
        "plt.figure(figsize=(25,2))\n",
        "sns.boxplot(dfg[names[4]],fliersize=10, color='red')"
      ],
      "metadata": {
        "colab": {
          "base_uri": "https://localhost:8080/",
          "height": 232
        },
        "id": "7UQJ0o8W73nd",
        "outputId": "8afbad08-7758-45ea-bc51-b4694347da5e"
      },
      "execution_count": null,
      "outputs": [
        {
          "output_type": "stream",
          "name": "stderr",
          "text": [
            "/usr/local/lib/python3.8/dist-packages/seaborn/_decorators.py:36: FutureWarning: Pass the following variable as a keyword arg: x. From version 0.12, the only valid positional argument will be `data`, and passing other arguments without an explicit keyword will result in an error or misinterpretation.\n",
            "  warnings.warn(\n"
          ]
        },
        {
          "output_type": "execute_result",
          "data": {
            "text/plain": [
              "<matplotlib.axes._subplots.AxesSubplot at 0x7f16eefe2c70>"
            ]
          },
          "metadata": {},
          "execution_count": 21
        },
        {
          "output_type": "display_data",
          "data": {
            "text/plain": [
              "<Figure size 1800x144 with 1 Axes>"
            ],
            "image/png": "[encoded data removed]"
          },
          "metadata": {
            "needs_background": "light"
          }
        }
      ]
    },
    {
      "cell_type": "code",
      "source": [
        "mm4 = dfg[names[4]].mean() #среднее значение \n",
        "st4 = statistics.stdev(dfg[names[4]]) # cтандартное отклонение = корень кв их дисперсии\n",
        "\n",
        "for i in range(0,len(dfg)):\n",
        "  dfg.loc[i, 'Плотность, кг/м3'] = (dfg.loc[i, names[4]] - mm4) / st4 \n",
        "\n",
        "print('max value = ', dfg['Плотность, кг/м3'].max(), 'min value = ', dfg['Плотность, кг/м3'].min())\n",
        "print('Выбросы не существенны') #маленький диапазон"
      ],
      "metadata": {
        "colab": {
          "base_uri": "https://localhost:8080/"
        },
        "id": "yNOgkCwmOIFg",
        "outputId": "1c6d8d9c-aa63-4b33-f7c2-5666729e5eff"
      },
      "execution_count": null,
      "outputs": [
        {
          "output_type": "stream",
          "name": "stdout",
          "text": [
            "max value =  3.1443940843966884 min value =  -3.3002808651100044\n",
            "Выбросы не существенны\n"
          ]
        }
      ]
    },
    {
      "cell_type": "markdown",
      "source": [
        "#модуль упругости, ГПа'"
      ],
      "metadata": {
        "id": "3SwLkFXfTjKx"
      }
    },
    {
      "cell_type": "code",
      "source": [
        "plt.figure(figsize=(25,2))\n",
        "sns.boxplot(dfg[names[5]],fliersize=10, color='red')"
      ],
      "metadata": {
        "colab": {
          "base_uri": "https://localhost:8080/",
          "height": 231
        },
        "id": "_DIqe8DW6rZj",
        "outputId": "5369e4db-95f9-4ee6-c6cb-6ae11092a9af"
      },
      "execution_count": null,
      "outputs": [
        {
          "output_type": "stream",
          "name": "stderr",
          "text": [
            "/usr/local/lib/python3.8/dist-packages/seaborn/_decorators.py:36: FutureWarning: Pass the following variable as a keyword arg: x. From version 0.12, the only valid positional argument will be `data`, and passing other arguments without an explicit keyword will result in an error or misinterpretation.\n",
            "  warnings.warn(\n"
          ]
        },
        {
          "output_type": "execute_result",
          "data": {
            "text/plain": [
              "<matplotlib.axes._subplots.AxesSubplot at 0x7f16ef6575b0>"
            ]
          },
          "metadata": {},
          "execution_count": 23
        },
        {
          "output_type": "display_data",
          "data": {
            "text/plain": [
              "<Figure size 1800x144 with 1 Axes>"
            ],
            "image/png": "[encoded data removed]"
          },
          "metadata": {
            "needs_background": "light"
          }
        }
      ]
    },
    {
      "cell_type": "code",
      "source": [
        "mm5 = dfg[names[5]].mean() #среднее значение \n",
        "st5 = statistics.stdev(dfg[names[5]]) # cтандартное отклонение = корень кв их дисперсии\n",
        "\n",
        "for i in range(0,len(dfg)):\n",
        "  dfg.loc[i, 'модуль упругости, ГПа'] = (dfg.loc[i, names[5]] - mm5) / st5\n",
        "\n",
        "print('max value = ', dfg['модуль упругости, ГПа'].max(), 'min value = ', dfg['модуль упругости, ГПа'].min())\n",
        "print('Выбросы не существенны') #выбросов нет"
      ],
      "metadata": {
        "colab": {
          "base_uri": "https://localhost:8080/"
        },
        "id": "lQHTAxQhRdUo",
        "outputId": "1c963e92-3a8d-452e-b4ff-b79b80423791"
      },
      "execution_count": null,
      "outputs": [
        {
          "output_type": "stream",
          "name": "stdout",
          "text": [
            "max value =  3.54684287045615 min value =  -2.234174763920856\n",
            "Выбросы не существенны\n"
          ]
        }
      ]
    },
    {
      "cell_type": "markdown",
      "source": [
        "#Количество отвердителя, м.%"
      ],
      "metadata": {
        "id": "rY9AqH-eUVHb"
      }
    },
    {
      "cell_type": "code",
      "source": [
        "plt.figure(figsize=(25,2))\n",
        "sns.boxplot(dfg[names[6]],fliersize=10, color='red')"
      ],
      "metadata": {
        "colab": {
          "base_uri": "https://localhost:8080/",
          "height": 232
        },
        "id": "FNEXY1P-xexX",
        "outputId": "f775c7dc-128a-43ff-b9e2-706be35dc5c7"
      },
      "execution_count": null,
      "outputs": [
        {
          "output_type": "stream",
          "name": "stderr",
          "text": [
            "/usr/local/lib/python3.8/dist-packages/seaborn/_decorators.py:36: FutureWarning: Pass the following variable as a keyword arg: x. From version 0.12, the only valid positional argument will be `data`, and passing other arguments without an explicit keyword will result in an error or misinterpretation.\n",
            "  warnings.warn(\n"
          ]
        },
        {
          "output_type": "execute_result",
          "data": {
            "text/plain": [
              "<matplotlib.axes._subplots.AxesSubplot at 0x7f16eef335e0>"
            ]
          },
          "metadata": {},
          "execution_count": 25
        },
        {
          "output_type": "display_data",
          "data": {
            "text/plain": [
              "<Figure size 1800x144 with 1 Axes>"
            ],
            "image/png": "[encoded data removed]"
          },
          "metadata": {
            "needs_background": "light"
          }
        }
      ]
    },
    {
      "cell_type": "code",
      "source": [
        "mm6 = dfg[names[6]].mean() #среднее значение \n",
        "st6 = statistics.stdev(dfg[names[6]]) # cтандартное отклонение = корень кв их дисперсии\n",
        "\n",
        "for i in range(0,len(dfg)):\n",
        "  dfg.loc[i, 'Количество отвердителя, м.%'] = (dfg.loc[i, names[6]] - mm6) / st6\n",
        "\n",
        "print('max value = ', dfg['Количество отвердителя, м.%'].max(), 'min value = ', dfg['Количество отвердителя, м.%'].min())\n",
        "print('Выбросы не существенны') #выбросов нет"
      ],
      "metadata": {
        "colab": {
          "base_uri": "https://localhost:8080/"
        },
        "id": "c3kOq5enSbnj",
        "outputId": "b534ad56-aea1-4935-dd4d-e300ad9bf179"
      },
      "execution_count": null,
      "outputs": [
        {
          "output_type": "stream",
          "name": "stdout",
          "text": [
            "max value =  3.1171432786677955 min value =  -3.277435697359071\n",
            "Выбросы не существенны\n"
          ]
        }
      ]
    },
    {
      "cell_type": "markdown",
      "source": [
        "#Содержание эпоксидных групп,%_"
      ],
      "metadata": {
        "id": "1gCF1ls9UeP1"
      }
    },
    {
      "cell_type": "code",
      "source": [
        "plt.figure(figsize=(25,2))\n",
        "sns.boxplot(dfg[names[7]],fliersize=10, color='red')"
      ],
      "metadata": {
        "colab": {
          "base_uri": "https://localhost:8080/",
          "height": 233
        },
        "id": "lcSW4ahHxe0Z",
        "outputId": "537a2462-4668-4427-f48e-cb16ddc1e9c6"
      },
      "execution_count": null,
      "outputs": [
        {
          "output_type": "stream",
          "name": "stderr",
          "text": [
            "/usr/local/lib/python3.8/dist-packages/seaborn/_decorators.py:36: FutureWarning: Pass the following variable as a keyword arg: x. From version 0.12, the only valid positional argument will be `data`, and passing other arguments without an explicit keyword will result in an error or misinterpretation.\n",
            "  warnings.warn(\n"
          ]
        },
        {
          "output_type": "execute_result",
          "data": {
            "text/plain": [
              "<matplotlib.axes._subplots.AxesSubplot at 0x7f16eef0ad60>"
            ]
          },
          "metadata": {},
          "execution_count": 27
        },
        {
          "output_type": "display_data",
          "data": {
            "text/plain": [
              "<Figure size 1800x144 with 1 Axes>"
            ],
            "image/png": "[encoded data removed]"
          },
          "metadata": {
            "needs_background": "light"
          }
        }
      ]
    },
    {
      "cell_type": "code",
      "source": [
        "mm7 = dfg[names[7]].mean() #среднее значение \n",
        "st7 = statistics.stdev(dfg[names[7]]) # cтандартное отклонение = корень кв их дисперсии\n",
        "\n",
        "for i in range(0,len(dfg)):\n",
        "  dfg.loc[i, 'Содержание эпоксидных групп,%_'] = (dfg.loc[i, names[7]] - mm7) / st7\n",
        "\n",
        "print('max value = ', dfg['Содержание эпоксидных групп,%_'].max(), 'min value = ', dfg['Содержание эпоксидных групп,%_'].min())\n",
        "print('Выбросы существенны') #выбросов нет"
      ],
      "metadata": {
        "colab": {
          "base_uri": "https://localhost:8080/"
        },
        "id": "SI0E3I2jS4d7",
        "outputId": "4a34eaef-21e7-41c4-e1a8-d33b0198cb49"
      },
      "execution_count": null,
      "outputs": [
        {
          "output_type": "stream",
          "name": "stdout",
          "text": [
            "max value =  4.462493082147441 min value =  -3.3132538675527576\n",
            "Выбросы существенны\n"
          ]
        }
      ]
    },
    {
      "cell_type": "code",
      "source": [
        "dfg7 = dfg[(dfg['Содержание эпоксидных групп,%_'] <= 3) & (dfg['Содержание эпоксидных групп,%_'] >= -3)]\n",
        "dfg7.reset_index(inplace = True)\n",
        "dfg7 = dfg7.copy()\n"
      ],
      "metadata": {
        "id": "G5SKyx_7Tgkj"
      },
      "execution_count": null,
      "outputs": []
    },
    {
      "cell_type": "code",
      "source": [
        "dfg7 = dfg7.iloc[:, 2:]"
      ],
      "metadata": {
        "id": "SRFaPfyjQI3P"
      },
      "execution_count": null,
      "outputs": []
    },
    {
      "cell_type": "markdown",
      "source": [
        "#Температура вспышки, С_2"
      ],
      "metadata": {
        "id": "Z1tzuxc6U-GB"
      }
    },
    {
      "cell_type": "code",
      "source": [
        "plt.figure(figsize=(25,2))\n",
        "sns.boxplot(dfg7[names[8]],fliersize=10, color='red')"
      ],
      "metadata": {
        "colab": {
          "base_uri": "https://localhost:8080/",
          "height": 233
        },
        "id": "fjF9qv8Txe2w",
        "outputId": "9c2b31fa-a08f-4eb3-cb5d-d3d1ded51eb4"
      },
      "execution_count": null,
      "outputs": [
        {
          "output_type": "stream",
          "name": "stderr",
          "text": [
            "/usr/local/lib/python3.8/dist-packages/seaborn/_decorators.py:36: FutureWarning: Pass the following variable as a keyword arg: x. From version 0.12, the only valid positional argument will be `data`, and passing other arguments without an explicit keyword will result in an error or misinterpretation.\n",
            "  warnings.warn(\n"
          ]
        },
        {
          "output_type": "execute_result",
          "data": {
            "text/plain": [
              "<matplotlib.axes._subplots.AxesSubplot at 0x7f16ee257d60>"
            ]
          },
          "metadata": {},
          "execution_count": 63
        },
        {
          "output_type": "display_data",
          "data": {
            "text/plain": [
              "<Figure size 1800x144 with 1 Axes>"
            ],
            "image/png": "[encoded data removed]"
          },
          "metadata": {
            "needs_background": "light"
          }
        }
      ]
    },
    {
      "cell_type": "code",
      "source": [
        "mm8 = dfg7[names[8]].mean() #среднее значение \n",
        "st8 = statistics.stdev(dfg7[names[8]]) # cтандартное отклонение = корень кв их дисперсии\n",
        "\n",
        "for i in range(0,len(dfg7)):\n",
        "  dfg7.loc[i, 'Температура вспышки, С_2'] = (dfg7.loc[i, names[8]] - mm8) / st8\n",
        "\n",
        "print('max value = ', dfg7['Температура вспышки, С_2'].max(), 'min value = ', dfg7['Температура вспышки, С_2'].min())\n",
        "print('Выбросы существенны') #выброс"
      ],
      "metadata": {
        "colab": {
          "base_uri": "https://localhost:8080/"
        },
        "id": "ZC6GlE9VZCJQ",
        "outputId": "07f40717-fabb-41d6-a334-5bb6ae0910ce"
      },
      "execution_count": null,
      "outputs": [
        {
          "output_type": "stream",
          "name": "stdout",
          "text": [
            "max value =  3.1053430977693557 min value =  -4.53141442149409\n",
            "Выбросы существенны\n"
          ]
        }
      ]
    },
    {
      "cell_type": "code",
      "source": [
        "dfg8 = dfg7[(dfg7['Температура вспышки, С_2'] <= 3) & (dfg7['Температура вспышки, С_2'] >= -3)]\n",
        "\n",
        "dfg8.reset_index(inplace = True)\n",
        "dfg8 = dfg8.copy()\n",
        "dfg8 = dfg8.iloc[:, 1 :]\n",
        "dfg8\n"
      ],
      "metadata": {
        "id": "swQiUZEQZh5T"
      },
      "execution_count": null,
      "outputs": []
    },
    {
      "cell_type": "markdown",
      "source": [
        "# Поверхностная плотность, г/м2"
      ],
      "metadata": {
        "id": "ufE-ZYVXKZjj"
      }
    },
    {
      "cell_type": "code",
      "source": [
        "plt.figure(figsize=(25,2))\n",
        "sns.boxplot(dfg8[names[9]],fliersize=10, color='red')"
      ],
      "metadata": {
        "colab": {
          "base_uri": "https://localhost:8080/",
          "height": 232
        },
        "id": "zSb6CsYXxe5n",
        "outputId": "af2a7839-c8fa-4480-c68a-23e5a63942c9"
      },
      "execution_count": null,
      "outputs": [
        {
          "output_type": "stream",
          "name": "stderr",
          "text": [
            "/usr/local/lib/python3.8/dist-packages/seaborn/_decorators.py:36: FutureWarning: Pass the following variable as a keyword arg: x. From version 0.12, the only valid positional argument will be `data`, and passing other arguments without an explicit keyword will result in an error or misinterpretation.\n",
            "  warnings.warn(\n"
          ]
        },
        {
          "output_type": "execute_result",
          "data": {
            "text/plain": [
              "<matplotlib.axes._subplots.AxesSubplot at 0x7f16eee73880>"
            ]
          },
          "metadata": {},
          "execution_count": 34
        },
        {
          "output_type": "display_data",
          "data": {
            "text/plain": [
              "<Figure size 1800x144 with 1 Axes>"
            ],
            "image/png": "[encoded data removed]"
          },
          "metadata": {
            "needs_background": "light"
          }
        }
      ]
    },
    {
      "cell_type": "code",
      "source": [
        "mm9 = dfg8[names[9]].mean() #среднее значение \n",
        "st9 = statistics.stdev(dfg8[names[9]]) # cтандартное отклонение = корень кв их дисперсии\n",
        "\n",
        "for i in range(0,len(dfg8)):\n",
        "  dfg8.loc[i, 'Поверхностная плотность, г/м2'] = (dfg8.loc[i, names[9]] - mm9) / st9\n",
        "\n",
        "print('max value = ', dfg8['Поверхностная плотность, г/м2'].max(), 'min value = ', dfg8['Поверхностная плотность, г/м2'].min())\n",
        "print('Выбросы  не существенны') #выброс нет"
      ],
      "metadata": {
        "colab": {
          "base_uri": "https://localhost:8080/"
        },
        "id": "yoJxRwfdQ29D",
        "outputId": "d9837792-32f3-46b7-c0da-502a23d3ef97"
      },
      "execution_count": null,
      "outputs": [
        {
          "output_type": "stream",
          "name": "stdout",
          "text": [
            "max value =  3.273664996478437 min value =  -1.7160704960710946\n",
            "Выбросы  не существенны\n"
          ]
        }
      ]
    },
    {
      "cell_type": "markdown",
      "source": [
        "#Модуль упругости при растяжении, ГПа"
      ],
      "metadata": {
        "id": "gpdgA0trVhfZ"
      }
    },
    {
      "cell_type": "code",
      "source": [
        "plt.figure(figsize=(25,2))\n",
        "sns.boxplot(dfg8[names[10]],fliersize=10, color='red')"
      ],
      "metadata": {
        "colab": {
          "base_uri": "https://localhost:8080/",
          "height": 232
        },
        "id": "9NpNRRCOxe9A",
        "outputId": "835fd272-f60b-4303-ef76-cde3d5a1ec19"
      },
      "execution_count": null,
      "outputs": [
        {
          "output_type": "stream",
          "name": "stderr",
          "text": [
            "/usr/local/lib/python3.8/dist-packages/seaborn/_decorators.py:36: FutureWarning: Pass the following variable as a keyword arg: x. From version 0.12, the only valid positional argument will be `data`, and passing other arguments without an explicit keyword will result in an error or misinterpretation.\n",
            "  warnings.warn(\n"
          ]
        },
        {
          "output_type": "execute_result",
          "data": {
            "text/plain": [
              "<matplotlib.axes._subplots.AxesSubplot at 0x7f16ee077190>"
            ]
          },
          "metadata": {},
          "execution_count": 68
        },
        {
          "output_type": "display_data",
          "data": {
            "text/plain": [
              "<Figure size 1800x144 with 1 Axes>"
            ],
            "image/png": "[encoded data removed]"
          },
          "metadata": {
            "needs_background": "light"
          }
        }
      ]
    },
    {
      "cell_type": "code",
      "source": [
        "mm10 = dfg8[names[10]].mean() #среднее значение \n",
        "st10 = statistics.stdev(dfg8[names[10]]) # cтандартное отклонение = корень кв их дисперсии\n",
        "\n",
        "for i in range(0,len(dfg8)):\n",
        "  dfg8.loc[i, 'Модуль упругости при растяжении, ГПа'] = (dfg8.loc[i, names[10]] - mm10) / st10\n",
        "\n",
        "print('max value = ', dfg8['Модуль упругости при растяжении, ГПа'].max(), 'min value = ', dfg8['Модуль упругости при растяжении, ГПа'].min())\n",
        "print('Выбросы  не существенны') #выброс нет"
      ],
      "metadata": {
        "colab": {
          "base_uri": "https://localhost:8080/"
        },
        "id": "rk3QRJttReoZ",
        "outputId": "6ca5885d-17ef-47d0-f367-c5a59bc5c8c2"
      },
      "execution_count": null,
      "outputs": [
        {
          "output_type": "stream",
          "name": "stdout",
          "text": [
            "max value =  3.0062483362835772 min value =  -2.9812922810172675\n",
            "Выбросы  не существенны\n"
          ]
        }
      ]
    },
    {
      "cell_type": "markdown",
      "source": [
        "#Прочность при растяжении, МПа"
      ],
      "metadata": {
        "id": "R9bM0S4xVxYW"
      }
    },
    {
      "cell_type": "code",
      "source": [
        "names"
      ],
      "metadata": {
        "colab": {
          "base_uri": "https://localhost:8080/"
        },
        "id": "xfF-6R08UemM",
        "outputId": "4aa2a0bd-aa23-471b-d3ef-f530c26c7207"
      },
      "execution_count": null,
      "outputs": [
        {
          "output_type": "execute_result",
          "data": {
            "text/plain": [
              "Index(['Угол нашивки, град', 'Шаг нашивки', 'Плотность нашивки',\n",
              "       'Соотношение матрица-наполнитель', 'Плотность, кг/м3',\n",
              "       'модуль упругости, ГПа', 'Количество отвердителя, м.%',\n",
              "       'Содержание эпоксидных групп,%_2', 'Температура вспышки, С_2',\n",
              "       'Поверхностная плотность, г/м2', 'Модуль упругости при растяжении, ГПа',\n",
              "       'Прочность при растяжении, МПа', 'Потребление смолы, г/м2',\n",
              "       'nashivka_norm', 'plotnost_nashivki_norm'],\n",
              "      dtype='object')"
            ]
          },
          "metadata": {},
          "execution_count": 59
        }
      ]
    },
    {
      "cell_type": "code",
      "source": [
        "plt.figure(figsize=(25,2))\n",
        "sns.boxplot(dfg8[names[11]],fliersize=10, color='red')"
      ],
      "metadata": {
        "colab": {
          "base_uri": "https://localhost:8080/",
          "height": 232
        },
        "id": "TG5gYKiLxe_l",
        "outputId": "1f8378ba-bc31-482c-f385-9a7025622536"
      },
      "execution_count": null,
      "outputs": [
        {
          "output_type": "stream",
          "name": "stderr",
          "text": [
            "/usr/local/lib/python3.8/dist-packages/seaborn/_decorators.py:36: FutureWarning: Pass the following variable as a keyword arg: x. From version 0.12, the only valid positional argument will be `data`, and passing other arguments without an explicit keyword will result in an error or misinterpretation.\n",
            "  warnings.warn(\n"
          ]
        },
        {
          "output_type": "execute_result",
          "data": {
            "text/plain": [
              "<matplotlib.axes._subplots.AxesSubplot at 0x7f16edda8ac0>"
            ]
          },
          "metadata": {},
          "execution_count": 70
        },
        {
          "output_type": "display_data",
          "data": {
            "text/plain": [
              "<Figure size 1800x144 with 1 Axes>"
            ],
            "image/png": "[encoded data removed]"
          },
          "metadata": {
            "needs_background": "light"
          }
        }
      ]
    },
    {
      "cell_type": "code",
      "source": [
        "mm11 = dfg8[names[11]].mean() #среднее значение \n",
        "st11 = statistics.stdev(dfg8[names[11]]) # cтандартное отклонение = корень кв их дисперсии\n",
        "\n",
        "for i in range(0,len(dfg8)):\n",
        "  dfg8.loc[i, 'Прочность при растяжении, МПа'] = (dfg8.loc[i, names[11]] - mm11) / st11\n",
        "\n",
        "print('max value = ', dfg8['Прочность при растяжении, МПа'].max(), 'min value = ', dfg8['Прочность при растяжении, МПа'].min())\n",
        "print('Выбросы  не существенны') #выброс нет"
      ],
      "metadata": {
        "colab": {
          "base_uri": "https://localhost:8080/"
        },
        "id": "hmImwj9dSHHd",
        "outputId": "39749bc6-7fc6-4ddf-94f6-b6080fd087a8"
      },
      "execution_count": null,
      "outputs": [
        {
          "output_type": "stream",
          "name": "stdout",
          "text": [
            "max value =  2.8433377484244855 min value =  -2.9388400837203994\n",
            "Выбросы  не существенны\n"
          ]
        }
      ]
    },
    {
      "cell_type": "markdown",
      "source": [
        "#Потребление смолы, г/м2"
      ],
      "metadata": {
        "id": "n62FjgsOWCX5"
      }
    },
    {
      "cell_type": "code",
      "source": [
        "plt.figure(figsize=(25,2))\n",
        "sns.boxplot(dfg8[names[12]],fliersize=10, color='red')"
      ],
      "metadata": {
        "colab": {
          "base_uri": "https://localhost:8080/",
          "height": 232
        },
        "id": "-HBxTErnxfCu",
        "outputId": "b0e82640-b8fe-43cf-874f-efb0926daaed"
      },
      "execution_count": null,
      "outputs": [
        {
          "output_type": "stream",
          "name": "stderr",
          "text": [
            "/usr/local/lib/python3.8/dist-packages/seaborn/_decorators.py:36: FutureWarning: Pass the following variable as a keyword arg: x. From version 0.12, the only valid positional argument will be `data`, and passing other arguments without an explicit keyword will result in an error or misinterpretation.\n",
            "  warnings.warn(\n"
          ]
        },
        {
          "output_type": "execute_result",
          "data": {
            "text/plain": [
              "<matplotlib.axes._subplots.AxesSubplot at 0x7f16edda5f10>"
            ]
          },
          "metadata": {},
          "execution_count": 72
        },
        {
          "output_type": "display_data",
          "data": {
            "text/plain": [
              "<Figure size 1800x144 with 1 Axes>"
            ],
            "image/png": "[encoded data removed]"
          },
          "metadata": {
            "needs_background": "light"
          }
        }
      ]
    },
    {
      "cell_type": "code",
      "source": [
        "mm12 = dfg8[names[12]].mean() #среднее значение \n",
        "st12 = statistics.stdev(dfg8[names[12]]) # cтандартное отклонение = корень кв их дисперсии\n",
        "\n",
        "for i in range(0,len(dfg8)):\n",
        "  dfg8.loc[i, 'Потребление смолы, г/м2'] = (dfg8.loc[i, names[12]] - mm12) / st12\n",
        "\n",
        "print('max value = ', dfg8['Потребление смолы, г/м2'].max(), 'min value = ', dfg8['Потребление смолы, г/м2'].min())\n",
        "print('Выбросы  не существенны') #выброс нет"
      ],
      "metadata": {
        "colab": {
          "base_uri": "https://localhost:8080/"
        },
        "id": "N9ZG1yCcSIyr",
        "outputId": "44cf52ce-1fb9-4060-f241-dc36be105927"
      },
      "execution_count": null,
      "outputs": [
        {
          "output_type": "stream",
          "name": "stdout",
          "text": [
            "max value =  3.287348835023294 min value =  -3.098691161502585\n",
            "Выбросы  не существенны\n"
          ]
        }
      ]
    },
    {
      "cell_type": "code",
      "source": [
        "dfg8.columns"
      ],
      "metadata": {
        "colab": {
          "base_uri": "https://localhost:8080/"
        },
        "id": "bKdgkXwaxfF2",
        "outputId": "5841b77f-46a5-4021-cf2e-10d7d6c72c2e"
      },
      "execution_count": null,
      "outputs": [
        {
          "output_type": "execute_result",
          "data": {
            "text/plain": [
              "Index(['Угол нашивки, град', 'Шаг нашивки', 'Плотность нашивки',\n",
              "       'Соотношение матрица-наполнитель', 'Плотность, кг/м3',\n",
              "       'модуль упругости, ГПа', 'Количество отвердителя, м.%',\n",
              "       'Содержание эпоксидных групп,%_2', 'Температура вспышки, С_2',\n",
              "       'Поверхностная плотность, г/м2', 'Модуль упругости при растяжении, ГПа',\n",
              "       'Прочность при растяжении, МПа', 'Потребление смолы, г/м2',\n",
              "       'nashivka_norm', 'plotnost_nashivki_norm',\n",
              "       'Содержание эпоксидных групп,%_'],\n",
              "      dtype='object')"
            ]
          },
          "metadata": {},
          "execution_count": 74
        }
      ]
    },
    {
      "cell_type": "code",
      "source": [
        "\n",
        "df = dfg8.iloc[:, :13]\n",
        "\n",
        "df"
      ],
      "metadata": {
        "colab": {
          "base_uri": "https://localhost:8080/",
          "height": 551
        },
        "id": "yfyn9zzLURzI",
        "outputId": "7fed871c-3795-4de5-fa1e-31ff9258115a"
      },
      "execution_count": null,
      "outputs": [
        {
          "output_type": "execute_result",
          "data": {
            "text/plain": [
              "      Угол нашивки, град  Шаг нашивки  Плотность нашивки  \\\n",
              "0                    0.0    -1.130977           0.230433   \n",
              "1                    0.0    -0.740880          -0.822116   \n",
              "2                    0.0    -0.740880          -0.012463   \n",
              "3                    0.0    -0.740880           0.230433   \n",
              "4                    0.0    -0.740880           1.040086   \n",
              "...                  ...          ...                ...   \n",
              "1006                90.0     0.849302          -0.820515   \n",
              "1007                90.0     1.430247          -0.275536   \n",
              "1008                90.0    -1.068111           0.848173   \n",
              "1009                90.0    -0.228605           0.089640   \n",
              "1010                90.0    -0.320004           1.642020   \n",
              "\n",
              "      Соотношение матрица-наполнитель  Плотность, кг/м3  \\\n",
              "0                           -1.177154          0.737522   \n",
              "1                           -1.177154          0.737522   \n",
              "2                           -0.174967          0.737522   \n",
              "3                           -0.178708          0.331353   \n",
              "4                           -0.396094         -0.887156   \n",
              "...                               ...               ...   \n",
              "1006                        -0.723080         -0.317328   \n",
              "1007                         0.562478          1.009509   \n",
              "1008                         0.383329         -0.042690   \n",
              "1009                         0.848962          1.235754   \n",
              "1010                         0.961514         -1.152337   \n",
              "\n",
              "      модуль упругости, ГПа  Количество отвердителя, м.%  \\\n",
              "0                 -0.004557                    -2.139066   \n",
              "1                 -0.004557                     0.648659   \n",
              "2                  0.038634                     0.043828   \n",
              "3                  0.023493                     0.043828   \n",
              "4                  0.202154                     0.043828   \n",
              "...                     ...                          ...   \n",
              "1006               0.522699                    -0.833698   \n",
              "1007              -0.894842                     1.247913   \n",
              "1008              -0.979315                    -0.002981   \n",
              "1009               0.003736                     1.086154   \n",
              "1010              -0.977863                     0.655131   \n",
              "\n",
              "      Содержание эпоксидных групп,%_2  Температура вспышки, С_2  \\\n",
              "0                           23.750000                 -0.030991   \n",
              "1                           21.250000                  0.344044   \n",
              "2                           22.267857                 -0.030991   \n",
              "3                           22.267857                 -0.030991   \n",
              "4                           22.267857                 -0.030991   \n",
              "...                               ...                       ...   \n",
              "1006                        20.123249                  0.947981   \n",
              "1007                        19.599769                 -0.772061   \n",
              "1008                        23.957502                 -0.913263   \n",
              "1009                        19.246945                 -0.246378   \n",
              "1010                        27.474763                  0.367268   \n",
              "\n",
              "      Поверхностная плотность, г/м2  Модуль упругости при растяжении, ГПа  \\\n",
              "0                         -0.969196                             -1.070106   \n",
              "1                         -0.969196                             -1.070106   \n",
              "2                         -0.969196                             -1.070106   \n",
              "3                         -0.969196                             -1.070106   \n",
              "4                         -0.969196                             -1.070106   \n",
              "...                             ...                                   ...   \n",
              "1006                      -0.972054                             -0.076588   \n",
              "1007                      -0.467487                             -0.131273   \n",
              "1008                       0.921718                              0.451640   \n",
              "1009                       0.569765                              0.229330   \n",
              "1010                       0.988079                              0.315149   \n",
              "\n",
              "      Прочность при растяжении, МПа  Потребление смолы, г/м2  \n",
              "0                          1.098478                 0.023945  \n",
              "1                          1.098478                 0.023945  \n",
              "2                          1.098478                 0.023945  \n",
              "3                          1.098478                 0.023945  \n",
              "4                          1.098478                 0.023945  \n",
              "...                             ...                      ...  \n",
              "1006                      -0.161590                -1.569134  \n",
              "1007                      -0.216911                -1.691183  \n",
              "1008                       0.405225                 0.302451  \n",
              "1009                      -0.810592                -0.359664  \n",
              "1010                       0.803010                -0.399440  \n",
              "\n",
              "[1011 rows x 13 columns]"
            ],
            "text/html": [
              "\n",
              "  <div id=\"df-593aeedf-4bd9-4474-8a46-0abb855ec7ac\">\n",
              "    <div class=\"colab-df-container\">\n",
              "      <div>\n",
              "<style scoped>\n",
              "    .dataframe tbody tr th:only-of-type {\n",
              "        vertical-align: middle;\n",
              "    }\n",
              "\n",
              "    .dataframe tbody tr th {\n",
              "        vertical-align: top;\n",
              "    }\n",
              "\n",
              "    .dataframe thead th {\n",
              "        text-align: right;\n",
              "    }\n",
              "</style>\n",
              "<table border=\"1\" class=\"dataframe\">\n",
              "  <thead>\n",
              "    <tr style=\"text-align: right;\">\n",
              "      <th></th>\n",
              "      <th>Угол нашивки, град</th>\n",
              "      <th>Шаг нашивки</th>\n",
              "      <th>Плотность нашивки</th>\n",
              "      <th>Соотношение матрица-наполнитель</th>\n",
              "      <th>Плотность, кг/м3</th>\n",
              "      <th>модуль упругости, ГПа</th>\n",
              "      <th>Количество отвердителя, м.%</th>\n",
              "      <th>Содержание эпоксидных групп,%_2</th>\n",
              "      <th>Температура вспышки, С_2</th>\n",
              "      <th>Поверхностная плотность, г/м2</th>\n",
              "      <th>Модуль упругости при растяжении, ГПа</th>\n",
              "      <th>Прочность при растяжении, МПа</th>\n",
              "      <th>Потребление смолы, г/м2</th>\n",
              "    </tr>\n",
              "  </thead>\n",
              "  <tbody>\n",
              "    <tr>\n",
              "      <th>0</th>\n",
              "      <td>0.0</td>\n",
              "      <td>-1.130977</td>\n",
              "      <td>0.230433</td>\n",
              "      <td>-1.177154</td>\n",
              "      <td>0.737522</td>\n",
              "      <td>-0.004557</td>\n",
              "      <td>-2.139066</td>\n",
              "      <td>23.750000</td>\n",
              "      <td>-0.030991</td>\n",
              "      <td>-0.969196</td>\n",
              "      <td>-1.070106</td>\n",
              "      <td>1.098478</td>\n",
              "      <td>0.023945</td>\n",
              "    </tr>\n",
              "    <tr>\n",
              "      <th>1</th>\n",
              "      <td>0.0</td>\n",
              "      <td>-0.740880</td>\n",
              "      <td>-0.822116</td>\n",
              "      <td>-1.177154</td>\n",
              "      <td>0.737522</td>\n",
              "      <td>-0.004557</td>\n",
              "      <td>0.648659</td>\n",
              "      <td>21.250000</td>\n",
              "      <td>0.344044</td>\n",
              "      <td>-0.969196</td>\n",
              "      <td>-1.070106</td>\n",
              "      <td>1.098478</td>\n",
              "      <td>0.023945</td>\n",
              "    </tr>\n",
              "    <tr>\n",
              "      <th>2</th>\n",
              "      <td>0.0</td>\n",
              "      <td>-0.740880</td>\n",
              "      <td>-0.012463</td>\n",
              "      <td>-0.174967</td>\n",
              "      <td>0.737522</td>\n",
              "      <td>0.038634</td>\n",
              "      <td>0.043828</td>\n",
              "      <td>22.267857</td>\n",
              "      <td>-0.030991</td>\n",
              "      <td>-0.969196</td>\n",
              "      <td>-1.070106</td>\n",
              "      <td>1.098478</td>\n",
              "      <td>0.023945</td>\n",
              "    </tr>\n",
              "    <tr>\n",
              "      <th>3</th>\n",
              "      <td>0.0</td>\n",
              "      <td>-0.740880</td>\n",
              "      <td>0.230433</td>\n",
              "      <td>-0.178708</td>\n",
              "      <td>0.331353</td>\n",
              "      <td>0.023493</td>\n",
              "      <td>0.043828</td>\n",
              "      <td>22.267857</td>\n",
              "      <td>-0.030991</td>\n",
              "      <td>-0.969196</td>\n",
              "      <td>-1.070106</td>\n",
              "      <td>1.098478</td>\n",
              "      <td>0.023945</td>\n",
              "    </tr>\n",
              "    <tr>\n",
              "      <th>4</th>\n",
              "      <td>0.0</td>\n",
              "      <td>-0.740880</td>\n",
              "      <td>1.040086</td>\n",
              "      <td>-0.396094</td>\n",
              "      <td>-0.887156</td>\n",
              "      <td>0.202154</td>\n",
              "      <td>0.043828</td>\n",
              "      <td>22.267857</td>\n",
              "      <td>-0.030991</td>\n",
              "      <td>-0.969196</td>\n",
              "      <td>-1.070106</td>\n",
              "      <td>1.098478</td>\n",
              "      <td>0.023945</td>\n",
              "    </tr>\n",
              "    <tr>\n",
              "      <th>...</th>\n",
              "      <td>...</td>\n",
              "      <td>...</td>\n",
              "      <td>...</td>\n",
              "      <td>...</td>\n",
              "      <td>...</td>\n",
              "      <td>...</td>\n",
              "      <td>...</td>\n",
              "      <td>...</td>\n",
              "      <td>...</td>\n",
              "      <td>...</td>\n",
              "      <td>...</td>\n",
              "      <td>...</td>\n",
              "      <td>...</td>\n",
              "    </tr>\n",
              "    <tr>\n",
              "      <th>1006</th>\n",
              "      <td>90.0</td>\n",
              "      <td>0.849302</td>\n",
              "      <td>-0.820515</td>\n",
              "      <td>-0.723080</td>\n",
              "      <td>-0.317328</td>\n",
              "      <td>0.522699</td>\n",
              "      <td>-0.833698</td>\n",
              "      <td>20.123249</td>\n",
              "      <td>0.947981</td>\n",
              "      <td>-0.972054</td>\n",
              "      <td>-0.076588</td>\n",
              "      <td>-0.161590</td>\n",
              "      <td>-1.569134</td>\n",
              "    </tr>\n",
              "    <tr>\n",
              "      <th>1007</th>\n",
              "      <td>90.0</td>\n",
              "      <td>1.430247</td>\n",
              "      <td>-0.275536</td>\n",
              "      <td>0.562478</td>\n",
              "      <td>1.009509</td>\n",
              "      <td>-0.894842</td>\n",
              "      <td>1.247913</td>\n",
              "      <td>19.599769</td>\n",
              "      <td>-0.772061</td>\n",
              "      <td>-0.467487</td>\n",
              "      <td>-0.131273</td>\n",
              "      <td>-0.216911</td>\n",
              "      <td>-1.691183</td>\n",
              "    </tr>\n",
              "    <tr>\n",
              "      <th>1008</th>\n",
              "      <td>90.0</td>\n",
              "      <td>-1.068111</td>\n",
              "      <td>0.848173</td>\n",
              "      <td>0.383329</td>\n",
              "      <td>-0.042690</td>\n",
              "      <td>-0.979315</td>\n",
              "      <td>-0.002981</td>\n",
              "      <td>23.957502</td>\n",
              "      <td>-0.913263</td>\n",
              "      <td>0.921718</td>\n",
              "      <td>0.451640</td>\n",
              "      <td>0.405225</td>\n",
              "      <td>0.302451</td>\n",
              "    </tr>\n",
              "    <tr>\n",
              "      <th>1009</th>\n",
              "      <td>90.0</td>\n",
              "      <td>-0.228605</td>\n",
              "      <td>0.089640</td>\n",
              "      <td>0.848962</td>\n",
              "      <td>1.235754</td>\n",
              "      <td>0.003736</td>\n",
              "      <td>1.086154</td>\n",
              "      <td>19.246945</td>\n",
              "      <td>-0.246378</td>\n",
              "      <td>0.569765</td>\n",
              "      <td>0.229330</td>\n",
              "      <td>-0.810592</td>\n",
              "      <td>-0.359664</td>\n",
              "    </tr>\n",
              "    <tr>\n",
              "      <th>1010</th>\n",
              "      <td>90.0</td>\n",
              "      <td>-0.320004</td>\n",
              "      <td>1.642020</td>\n",
              "      <td>0.961514</td>\n",
              "      <td>-1.152337</td>\n",
              "      <td>-0.977863</td>\n",
              "      <td>0.655131</td>\n",
              "      <td>27.474763</td>\n",
              "      <td>0.367268</td>\n",
              "      <td>0.988079</td>\n",
              "      <td>0.315149</td>\n",
              "      <td>0.803010</td>\n",
              "      <td>-0.399440</td>\n",
              "    </tr>\n",
              "  </tbody>\n",
              "</table>\n",
              "<p>1011 rows × 13 columns</p>\n",
              "</div>\n",
              "      <button class=\"colab-df-convert\" onclick=\"convertToInteractive('df-593aeedf-4bd9-4474-8a46-0abb855ec7ac')\"\n",
              "              title=\"Convert this dataframe to an interactive table.\"\n",
              "              style=\"display:none;\">\n",
              "        \n",
              "  <svg xmlns=\"http://www.w3.org/2000/svg\" height=\"24px\"viewBox=\"0 0 24 24\"\n",
              "       width=\"24px\">\n",
              "    <path d=\"M0 0h24v24H0V0z\" fill=\"none\"/>\n",
              "    <path d=\"M18.56 5.44l.94 2.06.94-2.06 2.06-.94-2.06-.94-.94-2.06-.94 2.06-2.06.94zm-11 1L8.5 8.5l.94-2.06 2.06-.94-2.06-.94L8.5 2.5l-.94 2.06-2.06.94zm10 10l.94 2.06.94-2.06 2.06-.94-2.06-.94-.94-2.06-.94 2.06-2.06.94z\"/><path d=\"M17.41 7.96l-1.37-1.37c-.4-.4-.92-.59-1.43-.59-.52 0-1.04.2-1.43.59L10.3 9.45l-7.72 7.72c-.78.78-.78 2.05 0 2.83L4 21.41c.39.39.9.59 1.41.59.51 0 1.02-.2 1.41-.59l7.78-7.78 2.81-2.81c.8-.78.8-2.07 0-2.86zM5.41 20L4 18.59l7.72-7.72 1.47 1.35L5.41 20z\"/>\n",
              "  </svg>\n",
              "      </button>\n",
              "      \n",
              "  <style>\n",
              "    .colab-df-container {\n",
              "      display:flex;\n",
              "      flex-wrap:wrap;\n",
              "      gap: 12px;\n",
              "    }\n",
              "\n",
              "    .colab-df-convert {\n",
              "      background-color: #E8F0FE;\n",
              "      border: none;\n",
              "      border-radius: 50%;\n",
              "      cursor: pointer;\n",
              "      display: none;\n",
              "      fill: #1967D2;\n",
              "      height: 32px;\n",
              "      padding: 0 0 0 0;\n",
              "      width: 32px;\n",
              "    }\n",
              "\n",
              "    .colab-df-convert:hover {\n",
              "      background-color: #E2EBFA;\n",
              "      box-shadow: 0px 1px 2px rgba(60, 64, 67, 0.3), 0px 1px 3px 1px rgba(60, 64, 67, 0.15);\n",
              "      fill: #174EA6;\n",
              "    }\n",
              "\n",
              "    [theme=dark] .colab-df-convert {\n",
              "      background-color: #3B4455;\n",
              "      fill: #D2E3FC;\n",
              "    }\n",
              "\n",
              "    [theme=dark] .colab-df-convert:hover {\n",
              "      background-color: #434B5C;\n",
              "      box-shadow: 0px 1px 3px 1px rgba(0, 0, 0, 0.15);\n",
              "      filter: drop-shadow(0px 1px 2px rgba(0, 0, 0, 0.3));\n",
              "      fill: #FFFFFF;\n",
              "    }\n",
              "  </style>\n",
              "\n",
              "      <script>\n",
              "        const buttonEl =\n",
              "          document.querySelector('#df-593aeedf-4bd9-4474-8a46-0abb855ec7ac button.colab-df-convert');\n",
              "        buttonEl.style.display =\n",
              "          google.colab.kernel.accessAllowed ? 'block' : 'none';\n",
              "\n",
              "        async function convertToInteractive(key) {\n",
              "          const element = document.querySelector('#df-593aeedf-4bd9-4474-8a46-0abb855ec7ac');\n",
              "          const dataTable =\n",
              "            await google.colab.kernel.invokeFunction('convertToInteractive',\n",
              "                                                     [key], {});\n",
              "          if (!dataTable) return;\n",
              "\n",
              "          const docLinkHtml = 'Like what you see? Visit the ' +\n",
              "            '<a target=\"_blank\" href=https://colab.research.google.com/notebooks/data_table.ipynb>data table notebook</a>'\n",
              "            + ' to learn more about interactive tables.';\n",
              "          element.innerHTML = '';\n",
              "          dataTable['output_type'] = 'display_data';\n",
              "          await google.colab.output.renderOutput(dataTable, element);\n",
              "          const docLink = document.createElement('div');\n",
              "          docLink.innerHTML = docLinkHtml;\n",
              "          element.appendChild(docLink);\n",
              "        }\n",
              "      </script>\n",
              "    </div>\n",
              "  </div>\n",
              "  "
            ]
          },
          "metadata": {},
          "execution_count": 127
        }
      ]
    },
    {
      "cell_type": "code",
      "source": [
        "# box_plot на маленьком поле\n",
        "def box_plt3(df):\n",
        "  sns.boxplot(data = df, orient=\"h\")\n",
        "  plt.show()\n",
        "box_plt3(df)"
      ],
      "metadata": {
        "colab": {
          "base_uri": "https://localhost:8080/",
          "height": 265
        },
        "id": "9-Rhkm7lXKFg",
        "outputId": "1e19a000-3ced-470f-bf68-b3909da73e57"
      },
      "execution_count": null,
      "outputs": [
        {
          "output_type": "display_data",
          "data": {
            "text/plain": [
              "<Figure size 432x288 with 1 Axes>"
            ],
            "image/png": "[encoded data removed]"
          },
          "metadata": {
            "needs_background": "light"
          }
        }
      ]
    },
    {
      "cell_type": "code",
      "source": [
        "df.info()"
      ],
      "metadata": {
        "colab": {
          "base_uri": "https://localhost:8080/"
        },
        "id": "l2t13l0-XKh1",
        "outputId": "364cd8c2-3f14-4275-ff3d-aa0e0a4b4cb4"
      },
      "execution_count": null,
      "outputs": [
        {
          "output_type": "stream",
          "name": "stdout",
          "text": [
            "<class 'pandas.core.frame.DataFrame'>\n",
            "RangeIndex: 1011 entries, 0 to 1010\n",
            "Data columns (total 13 columns):\n",
            " #   Column                                Non-Null Count  Dtype  \n",
            "---  ------                                --------------  -----  \n",
            " 0   Угол нашивки, град                    1011 non-null   float64\n",
            " 1   Шаг нашивки                           1011 non-null   float64\n",
            " 2   Плотность нашивки                     1011 non-null   float64\n",
            " 3   Соотношение матрица-наполнитель       1011 non-null   float64\n",
            " 4   Плотность, кг/м3                      1011 non-null   float64\n",
            " 5   модуль упругости, ГПа                 1011 non-null   float64\n",
            " 6   Количество отвердителя, м.%           1011 non-null   float64\n",
            " 7   Содержание эпоксидных групп,%_2       1011 non-null   float64\n",
            " 8   Температура вспышки, С_2              1011 non-null   float64\n",
            " 9   Поверхностная плотность, г/м2         1011 non-null   float64\n",
            " 10  Модуль упругости при растяжении, ГПа  1011 non-null   float64\n",
            " 11  Прочность при растяжении, МПа         1011 non-null   float64\n",
            " 12  Потребление смолы, г/м2               1011 non-null   float64\n",
            "dtypes: float64(13)\n",
            "memory usage: 102.8 KB\n"
          ]
        }
      ]
    },
    {
      "cell_type": "markdown",
      "source": [
        "Нормализуем данные"
      ],
      "metadata": {
        "id": "ha09yEyWZti2"
      }
    },
    {
      "cell_type": "code",
      "source": [
        "from sklearn.preprocessing import MinMaxScaler"
      ],
      "metadata": {
        "id": "x77tT8ZXaFeR"
      },
      "execution_count": null,
      "outputs": []
    },
    {
      "cell_type": "code",
      "source": [
        "scaler = preprocessing.MinMaxScaler()\n",
        "columns = df.columns\n",
        "df_z = scaler.fit_transform(np.array(df))\n",
        "df_z = pd.DataFrame(df_z, columns=columns)\n",
        "df_z.info()"
      ],
      "metadata": {
        "colab": {
          "base_uri": "https://localhost:8080/"
        },
        "id": "lLsZFNXeZsoJ",
        "outputId": "9dc98172-eff0-464f-f5ef-c2628ba8b49f"
      },
      "execution_count": null,
      "outputs": [
        {
          "output_type": "stream",
          "name": "stdout",
          "text": [
            "<class 'pandas.core.frame.DataFrame'>\n",
            "RangeIndex: 1011 entries, 0 to 1010\n",
            "Data columns (total 13 columns):\n",
            " #   Column                                Non-Null Count  Dtype  \n",
            "---  ------                                --------------  -----  \n",
            " 0   Угол нашивки, град                    1011 non-null   float64\n",
            " 1   Шаг нашивки                           1011 non-null   float64\n",
            " 2   Плотность нашивки                     1011 non-null   float64\n",
            " 3   Соотношение матрица-наполнитель       1011 non-null   float64\n",
            " 4   Плотность, кг/м3                      1011 non-null   float64\n",
            " 5   модуль упругости, ГПа                 1011 non-null   float64\n",
            " 6   Количество отвердителя, м.%           1011 non-null   float64\n",
            " 7   Содержание эпоксидных групп,%_2       1011 non-null   float64\n",
            " 8   Температура вспышки, С_2              1011 non-null   float64\n",
            " 9   Поверхностная плотность, г/м2         1011 non-null   float64\n",
            " 10  Модуль упругости при растяжении, ГПа  1011 non-null   float64\n",
            " 11  Прочность при растяжении, МПа         1011 non-null   float64\n",
            " 12  Потребление смолы, г/м2               1011 non-null   float64\n",
            "dtypes: float64(13)\n",
            "memory usage: 102.8 KB\n"
          ]
        }
      ]
    },
    {
      "cell_type": "code",
      "source": [
        "#cкачаем датасет в отдельный файл\n",
        "df_z.to_excel('df_z.xlsx')"
      ],
      "metadata": {
        "id": "wKBxqOwUZs5h"
      },
      "execution_count": null,
      "outputs": []
    }
  ]
}